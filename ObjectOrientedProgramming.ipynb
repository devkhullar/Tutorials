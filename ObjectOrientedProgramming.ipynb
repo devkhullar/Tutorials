{
 "cells": [
  {
   "cell_type": "markdown",
   "id": "76699463-11e1-4919-bbb0-e7155a4a4766",
   "metadata": {},
   "source": [
    "# Tutorial on Object Oriented Programming in Python"
   ]
  },
  {
   "cell_type": "code",
   "execution_count": 9,
   "id": "47afc970-a862-421c-baec-caaf9e120a1d",
   "metadata": {},
   "outputs": [],
   "source": [
    "class Particle():\n",
    "    def __init__(self, x, y, z, vx, vy, vz, m):\n",
    "        self.x = x\n",
    "        self.y = y\n",
    "        self.z = z\n",
    "        self.vx = vx\n",
    "        self.vy = vy\n",
    "        self.vz = vz\n",
    "        self.m = m\n",
    "\n",
    "    def move(self, t):\n",
    "        self.x = self.x + self.vx * t\n",
    "        self.y = self.y + self.vy * t\n",
    "        self.z = self.z + self.vz * t\n",
    "\n",
    "    def get_distance_from_origin(self):\n",
    "        return np.sqrt(self.x**2 + self.y**2 + self.z**2)"
   ]
  },
  {
   "cell_type": "markdown",
   "id": "b96bafab-af56-4d5a-82b6-8027318e82bd",
   "metadata": {},
   "source": [
    "# Inheritance"
   ]
  },
  {
   "cell_type": "markdown",
   "id": "b35ddbe4-b4a5-4dd2-8def-7e3f0c359498",
   "metadata": {},
   "source": [
    "`super()` function copy and calls the function there, where the method is defined in the super class. "
   ]
  },
  {
   "cell_type": "code",
   "execution_count": 10,
   "id": "b9ddafaa-84e6-4452-ae66-674b3764ed32",
   "metadata": {},
   "outputs": [],
   "source": [
    "class Proton(Particle):\n",
    "    def __init__(self, x, y, z, vx, vy, vz):\n",
    "        self.q = 1.6e-19 # in Coulombs\n",
    "        self.m = 9.11e-31 # in kg \n",
    "        super(Proton, self).__init__(x, y, z, vx, vy, vz, self.m)\n",
    "\n",
    "    def move(self, t, Ex, Ey, Ez):\n",
    "        self.x += self.vx * t + (1/2)"
   ]
  },
  {
   "cell_type": "code",
   "execution_count": 11,
   "id": "79d09d2f-36b9-431e-8a77-19466bdc2c47",
   "metadata": {},
   "outputs": [],
   "source": [
    "p = Proton(0, 0, 1, 1, 0, 0)"
   ]
  },
  {
   "cell_type": "code",
   "execution_count": 12,
   "id": "1d1374c9-84ed-475b-b4e9-de18d5faea4d",
   "metadata": {},
   "outputs": [
    {
     "data": {
      "text/plain": [
       "2"
      ]
     },
     "execution_count": 12,
     "metadata": {},
     "output_type": "execute_result"
    }
   ],
   "source": [
    "p.move(2)\n",
    "p.x"
   ]
  },
  {
   "cell_type": "code",
   "execution_count": 8,
   "id": "f1194a95-458b-46f8-abf8-c2836cf7bea0",
   "metadata": {},
   "outputs": [],
   "source": [
    "class Fruit:\n",
    "    def __init__(self, name):\n",
    "        self.name = name\n",
    "        self.is_peeled = False\n",
    "        self.is_washed = False\n",
    "        self.is_deleafed = False\n",
    "\n",
    "    def wash(self):\n",
    "        print(f\"Washing {self.name}\")\n",
    "        self.is_washed = True\n",
    "\n",
    "    def __repr__(self):\n",
    "        return self.name\n",
    "\n",
    "class Banana(Fruit):\n",
    "    def __init__(self, name='Banana'):\n",
    "        super().__init__(name)\n",
    "\n",
    "    def peel(self):\n",
    "        print(\"Peeling banana\")\n",
    "        self.is_peeled = True\n",
    "\n",
    "    def prepare(self):\n",
    "        self.peel()\n",
    "\n",
    "class Strawberry(Fruit):\n",
    "    def __init__(self, name='Strawberry'):\n",
    "        super().__init__(name)\n",
    "\n",
    "    def deleaf(self):\n",
    "        print(\"De-leafing strawberry\")\n",
    "        self.is_deleafd = True\n",
    "\n",
    "    def prepare(self):\n",
    "        super().wash\n",
    "        self.deleaf()"
   ]
  },
  {
   "cell_type": "markdown",
   "id": "be7ec1e9-d86b-4e7c-ab63-bd2d1b1b1988",
   "metadata": {},
   "source": [
    "# Polymorphism \n",
    "\n",
    "- share behaviour across objects\n",
    "- static (method/operator overloading) and dynamic (method overriding); Python is best suited for dynamic. "
   ]
  },
  {
   "cell_type": "markdown",
   "id": "05769dfc-d5ce-4566-ae0d-4ec3bf1f7f4b",
   "metadata": {},
   "source": [
    "# Abstract Base Classes (ABCs) = Abstraction + Inheritance"
   ]
  },
  {
   "cell_type": "code",
   "execution_count": 5,
   "id": "0865212f-2016-4a62-a9b8-91c6a6b08685",
   "metadata": {},
   "outputs": [
    {
     "name": "stdout",
     "output_type": "stream",
     "text": [
      "Woof!\n",
      "Meow!\n"
     ]
    }
   ],
   "source": [
    "from abc import ABC, abstractmethod\n",
    "\n",
    "class Animal(ABC):\n",
    "    @abstractmethod\n",
    "    def make_sound(self):\n",
    "        pass\n",
    "\n",
    "class Dog(Animal):\n",
    "    def make_sound(self):\n",
    "        return \"Woof!\"\n",
    "\n",
    "class Cat(Animal):\n",
    "    def make_sound(self):\n",
    "        return \"Meow!\"\n",
    "\n",
    "dog = Dog()\n",
    "cat = Cat()\n",
    "print(dog.make_sound())\n",
    "print(cat.make_sound())"
   ]
  },
  {
   "cell_type": "code",
   "execution_count": 6,
   "id": "d5330bcb-1e23-4e34-82c5-2edb8dba2c62",
   "metadata": {},
   "outputs": [
    {
     "name": "stdout",
     "output_type": "stream",
     "text": [
      "LOG: Dog is making a sound\n",
      "Woof!\n"
     ]
    }
   ],
   "source": [
    "class LoggerMixin:\n",
    "    def log(self, message):\n",
    "        print(f\"LOG: {message}\")\n",
    "\n",
    "class Animal:\n",
    "    def make_sound(self):\n",
    "        pass\n",
    "\n",
    "class Dog(Animal, LoggerMixin):\n",
    "    def make_sound(self):\n",
    "        self.log(\"Dog is making a sound\")\n",
    "        return \"Woof!\"\n",
    "\n",
    "dog = Dog()\n",
    "print(dog.make_sound())  # Output: LOG: Dog is making a sound \\n Woof!"
   ]
  },
  {
   "cell_type": "markdown",
   "id": "264bdb56-41f8-4a29-983a-7c6bea9a5ff7",
   "metadata": {},
   "source": [
    "1. decorators\n",
    "2. "
   ]
  }
 ],
 "metadata": {
  "kernelspec": {
   "display_name": "Python 3 (ipykernel)",
   "language": "python",
   "name": "python3"
  },
  "language_info": {
   "codemirror_mode": {
    "name": "ipython",
    "version": 3
   },
   "file_extension": ".py",
   "mimetype": "text/x-python",
   "name": "python",
   "nbconvert_exporter": "python",
   "pygments_lexer": "ipython3",
   "version": "3.12.10"
  }
 },
 "nbformat": 4,
 "nbformat_minor": 5
}
