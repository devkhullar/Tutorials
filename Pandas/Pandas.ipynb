{
 "cells": [
  {
   "cell_type": "code",
   "execution_count": 1,
   "id": "384f5167-6b1d-41f7-b60b-40e2f1b2c7be",
   "metadata": {},
   "outputs": [],
   "source": [
    "import pandas as pd\n",
    "import numpy as np\n",
    "import matplotlib.pyplot as plt\n",
    "\n",
    "from XRBID.Sources import LoadSources"
   ]
  },
  {
   "cell_type": "code",
   "execution_count": 19,
   "id": "4f9f3080-4a1a-4dc3-aba1-0dbf9fe0bd5f",
   "metadata": {},
   "outputs": [],
   "source": [
    "df = pd.DataFrame([[1,2,3],[4,5,6],[7,8,9],[10,11,12]], columns=[\"A\", \"B\", \"C\"], index=[\"x\", \"y\", \"z\", \"zz\"])"
   ]
  },
  {
   "cell_type": "code",
   "execution_count": 5,
   "id": "554fd297-a906-4c11-9b2b-f57402134e05",
   "metadata": {},
   "outputs": [
    {
     "data": {
      "text/html": [
       "<div>\n",
       "<style scoped>\n",
       "    .dataframe tbody tr th:only-of-type {\n",
       "        vertical-align: middle;\n",
       "    }\n",
       "\n",
       "    .dataframe tbody tr th {\n",
       "        vertical-align: top;\n",
       "    }\n",
       "\n",
       "    .dataframe thead th {\n",
       "        text-align: right;\n",
       "    }\n",
       "</style>\n",
       "<table border=\"1\" class=\"dataframe\">\n",
       "  <thead>\n",
       "    <tr style=\"text-align: right;\">\n",
       "      <th></th>\n",
       "      <th>A</th>\n",
       "      <th>B</th>\n",
       "      <th>C</th>\n",
       "    </tr>\n",
       "  </thead>\n",
       "  <tbody>\n",
       "    <tr>\n",
       "      <th>0</th>\n",
       "      <td>1</td>\n",
       "      <td>2</td>\n",
       "      <td>3</td>\n",
       "    </tr>\n",
       "    <tr>\n",
       "      <th>1</th>\n",
       "      <td>4</td>\n",
       "      <td>5</td>\n",
       "      <td>6</td>\n",
       "    </tr>\n",
       "    <tr>\n",
       "      <th>2</th>\n",
       "      <td>7</td>\n",
       "      <td>8</td>\n",
       "      <td>9</td>\n",
       "    </tr>\n",
       "  </tbody>\n",
       "</table>\n",
       "</div>"
      ],
      "text/plain": [
       "   A  B  C\n",
       "0  1  2  3\n",
       "1  4  5  6\n",
       "2  7  8  9"
      ]
     },
     "execution_count": 5,
     "metadata": {},
     "output_type": "execute_result"
    }
   ],
   "source": [
    "df.head()"
   ]
  },
  {
   "cell_type": "code",
   "execution_count": 6,
   "id": "d324dd69-624e-4e1c-888d-cdcad31734ce",
   "metadata": {},
   "outputs": [
    {
     "data": {
      "text/plain": [
       "Index(['A', 'B', 'C'], dtype='object')"
      ]
     },
     "execution_count": 6,
     "metadata": {},
     "output_type": "execute_result"
    }
   ],
   "source": [
    "df.columns"
   ]
  },
  {
   "cell_type": "code",
   "execution_count": 7,
   "id": "4d339c3e-ada4-47e5-a9c4-711e56c38383",
   "metadata": {},
   "outputs": [
    {
     "data": {
      "text/plain": [
       "RangeIndex(start=0, stop=3, step=1)"
      ]
     },
     "execution_count": 7,
     "metadata": {},
     "output_type": "execute_result"
    }
   ],
   "source": [
    "df.index"
   ]
  },
  {
   "cell_type": "code",
   "execution_count": 8,
   "id": "49733654-d17f-441f-b6b4-32b1fecb6a3a",
   "metadata": {},
   "outputs": [
    {
     "data": {
      "text/plain": [
       "[0, 1, 2]"
      ]
     },
     "execution_count": 8,
     "metadata": {},
     "output_type": "execute_result"
    }
   ],
   "source": [
    "df.index.tolist()"
   ]
  },
  {
   "cell_type": "code",
   "execution_count": 12,
   "id": "0733dee3-7a7c-4f2b-965f-7ee1aa4a6559",
   "metadata": {},
   "outputs": [
    {
     "name": "stdout",
     "output_type": "stream",
     "text": [
      "<class 'pandas.core.frame.DataFrame'>\n",
      "Index: 3 entries, x to z\n",
      "Data columns (total 3 columns):\n",
      " #   Column  Non-Null Count  Dtype\n",
      "---  ------  --------------  -----\n",
      " 0   A       3 non-null      int64\n",
      " 1   B       3 non-null      int64\n",
      " 2   C       3 non-null      int64\n",
      "dtypes: int64(3)\n",
      "memory usage: 96.0+ bytes\n"
     ]
    }
   ],
   "source": [
    "df.info()"
   ]
  },
  {
   "cell_type": "code",
   "execution_count": 13,
   "id": "9f179662-638a-4adb-9071-76e41b10ccc5",
   "metadata": {},
   "outputs": [
    {
     "data": {
      "text/html": [
       "<div>\n",
       "<style scoped>\n",
       "    .dataframe tbody tr th:only-of-type {\n",
       "        vertical-align: middle;\n",
       "    }\n",
       "\n",
       "    .dataframe tbody tr th {\n",
       "        vertical-align: top;\n",
       "    }\n",
       "\n",
       "    .dataframe thead th {\n",
       "        text-align: right;\n",
       "    }\n",
       "</style>\n",
       "<table border=\"1\" class=\"dataframe\">\n",
       "  <thead>\n",
       "    <tr style=\"text-align: right;\">\n",
       "      <th></th>\n",
       "      <th>A</th>\n",
       "      <th>B</th>\n",
       "      <th>C</th>\n",
       "    </tr>\n",
       "  </thead>\n",
       "  <tbody>\n",
       "    <tr>\n",
       "      <th>count</th>\n",
       "      <td>3.0</td>\n",
       "      <td>3.0</td>\n",
       "      <td>3.0</td>\n",
       "    </tr>\n",
       "    <tr>\n",
       "      <th>mean</th>\n",
       "      <td>4.0</td>\n",
       "      <td>5.0</td>\n",
       "      <td>6.0</td>\n",
       "    </tr>\n",
       "    <tr>\n",
       "      <th>std</th>\n",
       "      <td>3.0</td>\n",
       "      <td>3.0</td>\n",
       "      <td>3.0</td>\n",
       "    </tr>\n",
       "    <tr>\n",
       "      <th>min</th>\n",
       "      <td>1.0</td>\n",
       "      <td>2.0</td>\n",
       "      <td>3.0</td>\n",
       "    </tr>\n",
       "    <tr>\n",
       "      <th>25%</th>\n",
       "      <td>2.5</td>\n",
       "      <td>3.5</td>\n",
       "      <td>4.5</td>\n",
       "    </tr>\n",
       "    <tr>\n",
       "      <th>50%</th>\n",
       "      <td>4.0</td>\n",
       "      <td>5.0</td>\n",
       "      <td>6.0</td>\n",
       "    </tr>\n",
       "    <tr>\n",
       "      <th>75%</th>\n",
       "      <td>5.5</td>\n",
       "      <td>6.5</td>\n",
       "      <td>7.5</td>\n",
       "    </tr>\n",
       "    <tr>\n",
       "      <th>max</th>\n",
       "      <td>7.0</td>\n",
       "      <td>8.0</td>\n",
       "      <td>9.0</td>\n",
       "    </tr>\n",
       "  </tbody>\n",
       "</table>\n",
       "</div>"
      ],
      "text/plain": [
       "         A    B    C\n",
       "count  3.0  3.0  3.0\n",
       "mean   4.0  5.0  6.0\n",
       "std    3.0  3.0  3.0\n",
       "min    1.0  2.0  3.0\n",
       "25%    2.5  3.5  4.5\n",
       "50%    4.0  5.0  6.0\n",
       "75%    5.5  6.5  7.5\n",
       "max    7.0  8.0  9.0"
      ]
     },
     "execution_count": 13,
     "metadata": {},
     "output_type": "execute_result"
    }
   ],
   "source": [
    "df.describe()"
   ]
  },
  {
   "cell_type": "code",
   "execution_count": 14,
   "id": "0e86c0d5-ad20-42df-8eeb-bbf480542e86",
   "metadata": {},
   "outputs": [
    {
     "data": {
      "text/plain": [
       "A    3\n",
       "B    3\n",
       "C    3\n",
       "dtype: int64"
      ]
     },
     "execution_count": 14,
     "metadata": {},
     "output_type": "execute_result"
    }
   ],
   "source": [
    "df.nunique()"
   ]
  },
  {
   "cell_type": "code",
   "execution_count": 20,
   "id": "4e7c27c3-f925-4115-9f4b-fa7f3ff8e047",
   "metadata": {},
   "outputs": [
    {
     "data": {
      "text/plain": [
       "(4, 3)"
      ]
     },
     "execution_count": 20,
     "metadata": {},
     "output_type": "execute_result"
    }
   ],
   "source": [
    "df.shape"
   ]
  },
  {
   "cell_type": "code",
   "execution_count": 22,
   "id": "a065dcf8-1392-4e07-ba02-ef130e27a490",
   "metadata": {},
   "outputs": [
    {
     "name": "stdout",
     "output_type": "stream",
     "text": [
      "<class 'pandas.core.frame.DataFrame'>\n",
      "Index: 4 entries, x to zz\n",
      "Data columns (total 3 columns):\n",
      " #   Column  Non-Null Count  Dtype\n",
      "---  ------  --------------  -----\n",
      " 0   A       4 non-null      int64\n",
      " 1   B       4 non-null      int64\n",
      " 2   C       4 non-null      int64\n",
      "dtypes: int64(3)\n",
      "memory usage: 128.0+ bytes\n"
     ]
    }
   ],
   "source": [
    "df.info()"
   ]
  },
  {
   "cell_type": "code",
   "execution_count": 23,
   "id": "8f08dd3d-0f92-48a9-9350-aa525b857ee8",
   "metadata": {},
   "outputs": [
    {
     "data": {
      "text/plain": [
       "12"
      ]
     },
     "execution_count": 23,
     "metadata": {},
     "output_type": "execute_result"
    }
   ],
   "source": [
    "df.size"
   ]
  },
  {
   "cell_type": "code",
   "execution_count": 26,
   "id": "1fb2c2f4-ae98-4dc6-81cb-898fb8786b49",
   "metadata": {},
   "outputs": [],
   "source": [
    "coffee = pd.read_csv(\"https://raw.githubusercontent.com/KeithGalli/complete-pandas-tutorial/refs/heads/master/warmup-data/coffee.csv\")"
   ]
  },
  {
   "cell_type": "code",
   "execution_count": 28,
   "id": "fd008057-885b-4e39-b645-a536d39a61e9",
   "metadata": {},
   "outputs": [
    {
     "data": {
      "text/html": [
       "<div>\n",
       "<style scoped>\n",
       "    .dataframe tbody tr th:only-of-type {\n",
       "        vertical-align: middle;\n",
       "    }\n",
       "\n",
       "    .dataframe tbody tr th {\n",
       "        vertical-align: top;\n",
       "    }\n",
       "\n",
       "    .dataframe thead th {\n",
       "        text-align: right;\n",
       "    }\n",
       "</style>\n",
       "<table border=\"1\" class=\"dataframe\">\n",
       "  <thead>\n",
       "    <tr style=\"text-align: right;\">\n",
       "      <th></th>\n",
       "      <th>Day</th>\n",
       "      <th>Coffee Type</th>\n",
       "      <th>Units Sold</th>\n",
       "    </tr>\n",
       "  </thead>\n",
       "  <tbody>\n",
       "    <tr>\n",
       "      <th>0</th>\n",
       "      <td>Monday</td>\n",
       "      <td>Espresso</td>\n",
       "      <td>25</td>\n",
       "    </tr>\n",
       "    <tr>\n",
       "      <th>1</th>\n",
       "      <td>Monday</td>\n",
       "      <td>Latte</td>\n",
       "      <td>15</td>\n",
       "    </tr>\n",
       "    <tr>\n",
       "      <th>2</th>\n",
       "      <td>Tuesday</td>\n",
       "      <td>Espresso</td>\n",
       "      <td>30</td>\n",
       "    </tr>\n",
       "    <tr>\n",
       "      <th>3</th>\n",
       "      <td>Tuesday</td>\n",
       "      <td>Latte</td>\n",
       "      <td>20</td>\n",
       "    </tr>\n",
       "    <tr>\n",
       "      <th>4</th>\n",
       "      <td>Wednesday</td>\n",
       "      <td>Espresso</td>\n",
       "      <td>35</td>\n",
       "    </tr>\n",
       "  </tbody>\n",
       "</table>\n",
       "</div>"
      ],
      "text/plain": [
       "         Day Coffee Type  Units Sold\n",
       "0     Monday    Espresso          25\n",
       "1     Monday       Latte          15\n",
       "2    Tuesday    Espresso          30\n",
       "3    Tuesday       Latte          20\n",
       "4  Wednesday    Espresso          35"
      ]
     },
     "execution_count": 28,
     "metadata": {},
     "output_type": "execute_result"
    }
   ],
   "source": [
    "coffee.head()"
   ]
  },
  {
   "cell_type": "markdown",
   "id": "1ca69227-7d30-4a40-88c8-2b5350b60dd6",
   "metadata": {},
   "source": [
    "# Show all the outputs of a DataFrame"
   ]
  },
  {
   "cell_type": "code",
   "execution_count": 2,
   "id": "032fcdca-0d0d-4b10-b458-720706d96100",
   "metadata": {},
   "outputs": [
    {
     "name": "stdout",
     "output_type": "stream",
     "text": [
      "Reading in sources from /Users/undergradstudent/Research/XRB-Analysis/Chandra/M66/cscresults_M66_renamed.frame...\n"
     ]
    }
   ],
   "source": [
    "table = LoadSources(\"/Users/undergradstudent/Research/XRB-Analysis/Chandra/M66/cscresults_M66_renamed.frame\")"
   ]
  },
  {
   "cell_type": "code",
   "execution_count": 3,
   "id": "096e98ab-7287-4f97-8eb3-458a15bf679f",
   "metadata": {},
   "outputs": [
    {
     "data": {
      "text/html": [
       "<div>\n",
       "<style scoped>\n",
       "    .dataframe tbody tr th:only-of-type {\n",
       "        vertical-align: middle;\n",
       "    }\n",
       "\n",
       "    .dataframe tbody tr th {\n",
       "        vertical-align: top;\n",
       "    }\n",
       "\n",
       "    .dataframe thead th {\n",
       "        text-align: right;\n",
       "    }\n",
       "</style>\n",
       "<table border=\"1\" class=\"dataframe\">\n",
       "  <thead>\n",
       "    <tr style=\"text-align: right;\">\n",
       "      <th></th>\n",
       "      <th>Separation</th>\n",
       "      <th>CSC ID</th>\n",
       "      <th>RA</th>\n",
       "      <th>Dec</th>\n",
       "      <th>Err Ellipse Major</th>\n",
       "      <th>Err Ellipse Minor</th>\n",
       "      <th>Err Ellipse Angle</th>\n",
       "      <th>Significance</th>\n",
       "      <th>Likelihood</th>\n",
       "      <th>conf_flag</th>\n",
       "      <th>...</th>\n",
       "      <th>flux_aper_avg_lolim_b</th>\n",
       "      <th>flux_aper_avg_hilim_b</th>\n",
       "      <th>flux_aper_avg_w</th>\n",
       "      <th>flux_aper_avg_lolim_w</th>\n",
       "      <th>flux_aper_avg_hilim_w</th>\n",
       "      <th>Theta</th>\n",
       "      <th>HS Ratio</th>\n",
       "      <th>Counts</th>\n",
       "      <th>Counts lolim</th>\n",
       "      <th>Counts hilim</th>\n",
       "    </tr>\n",
       "  </thead>\n",
       "  <tbody>\n",
       "    <tr>\n",
       "      <th>0</th>\n",
       "      <td>0.603512</td>\n",
       "      <td>2CXO J112014.9+125929</td>\n",
       "      <td>170.062428</td>\n",
       "      <td>12.991495</td>\n",
       "      <td>0.311932</td>\n",
       "      <td>0.311917</td>\n",
       "      <td>0.000000</td>\n",
       "      <td>9.567092</td>\n",
       "      <td>TRUE</td>\n",
       "      <td>True</td>\n",
       "      <td>...</td>\n",
       "      <td>2.158629e-14</td>\n",
       "      <td>2.700286e-14</td>\n",
       "      <td>NaN</td>\n",
       "      <td>NaN</td>\n",
       "      <td>NaN</td>\n",
       "      <td>0.420311</td>\n",
       "      <td>0.029981</td>\n",
       "      <td>173.048934</td>\n",
       "      <td>154.988228</td>\n",
       "      <td>191.109641</td>\n",
       "    </tr>\n",
       "    <tr>\n",
       "      <th>1</th>\n",
       "      <td>1.154310</td>\n",
       "      <td>2CXO J112015.0+125928</td>\n",
       "      <td>170.062878</td>\n",
       "      <td>12.991329</td>\n",
       "      <td>0.317501</td>\n",
       "      <td>0.317501</td>\n",
       "      <td>0.000000</td>\n",
       "      <td>7.701153</td>\n",
       "      <td>TRUE</td>\n",
       "      <td>True</td>\n",
       "      <td>...</td>\n",
       "      <td>2.096613e-14</td>\n",
       "      <td>2.689218e-14</td>\n",
       "      <td>NaN</td>\n",
       "      <td>NaN</td>\n",
       "      <td>NaN</td>\n",
       "      <td>0.412041</td>\n",
       "      <td>-0.277327</td>\n",
       "      <td>126.386565</td>\n",
       "      <td>109.441688</td>\n",
       "      <td>142.201784</td>\n",
       "    </tr>\n",
       "    <tr>\n",
       "      <th>2</th>\n",
       "      <td>4.249587</td>\n",
       "      <td>2CXO J112014.9+125933</td>\n",
       "      <td>170.062259</td>\n",
       "      <td>12.992633</td>\n",
       "      <td>0.299684</td>\n",
       "      <td>0.298357</td>\n",
       "      <td>5.587902</td>\n",
       "      <td>12.795398</td>\n",
       "      <td>TRUE</td>\n",
       "      <td>False</td>\n",
       "      <td>...</td>\n",
       "      <td>2.943952e-14</td>\n",
       "      <td>3.440386e-14</td>\n",
       "      <td>NaN</td>\n",
       "      <td>NaN</td>\n",
       "      <td>NaN</td>\n",
       "      <td>0.488407</td>\n",
       "      <td>0.224859</td>\n",
       "      <td>226.842541</td>\n",
       "      <td>209.119065</td>\n",
       "      <td>244.566017</td>\n",
       "    </tr>\n",
       "    <tr>\n",
       "      <th>3</th>\n",
       "      <td>4.484088</td>\n",
       "      <td>2CXO J112015.2+125932X</td>\n",
       "      <td>170.063665</td>\n",
       "      <td>12.992189</td>\n",
       "      <td>3.446421</td>\n",
       "      <td>3.446421</td>\n",
       "      <td>0.000000</td>\n",
       "      <td>39.744111</td>\n",
       "      <td>TRUE</td>\n",
       "      <td>NaN</td>\n",
       "      <td>...</td>\n",
       "      <td>2.366824e-13</td>\n",
       "      <td>2.788378e-13</td>\n",
       "      <td>NaN</td>\n",
       "      <td>NaN</td>\n",
       "      <td>NaN</td>\n",
       "      <td>0.466503</td>\n",
       "      <td>NaN</td>\n",
       "      <td>3329.616280</td>\n",
       "      <td>3231.522180</td>\n",
       "      <td>3427.710381</td>\n",
       "    </tr>\n",
       "    <tr>\n",
       "      <th>4</th>\n",
       "      <td>5.940189</td>\n",
       "      <td>2CXO J112015.3+125932</td>\n",
       "      <td>170.064119</td>\n",
       "      <td>12.992230</td>\n",
       "      <td>0.413187</td>\n",
       "      <td>0.343140</td>\n",
       "      <td>64.093176</td>\n",
       "      <td>5.142857</td>\n",
       "      <td>TRUE</td>\n",
       "      <td>False</td>\n",
       "      <td>...</td>\n",
       "      <td>5.671396e-15</td>\n",
       "      <td>8.390559e-15</td>\n",
       "      <td>NaN</td>\n",
       "      <td>NaN</td>\n",
       "      <td>NaN</td>\n",
       "      <td>0.477466</td>\n",
       "      <td>0.199875</td>\n",
       "      <td>39.229231</td>\n",
       "      <td>31.383385</td>\n",
       "      <td>46.639197</td>\n",
       "    </tr>\n",
       "    <tr>\n",
       "      <th>...</th>\n",
       "      <td>...</td>\n",
       "      <td>...</td>\n",
       "      <td>...</td>\n",
       "      <td>...</td>\n",
       "      <td>...</td>\n",
       "      <td>...</td>\n",
       "      <td>...</td>\n",
       "      <td>...</td>\n",
       "      <td>...</td>\n",
       "      <td>...</td>\n",
       "      <td>...</td>\n",
       "      <td>...</td>\n",
       "      <td>...</td>\n",
       "      <td>...</td>\n",
       "      <td>...</td>\n",
       "      <td>...</td>\n",
       "      <td>...</td>\n",
       "      <td>...</td>\n",
       "      <td>...</td>\n",
       "      <td>...</td>\n",
       "      <td>...</td>\n",
       "    </tr>\n",
       "    <tr>\n",
       "      <th>83</th>\n",
       "      <td>231.679093</td>\n",
       "      <td>2CXO J112030.5+130013</td>\n",
       "      <td>170.127457</td>\n",
       "      <td>13.003663</td>\n",
       "      <td>1.402157</td>\n",
       "      <td>0.820192</td>\n",
       "      <td>1.489236</td>\n",
       "      <td>3.575758</td>\n",
       "      <td>TRUE</td>\n",
       "      <td>False</td>\n",
       "      <td>...</td>\n",
       "      <td>2.248525e-15</td>\n",
       "      <td>4.208778e-15</td>\n",
       "      <td>NaN</td>\n",
       "      <td>NaN</td>\n",
       "      <td>NaN</td>\n",
       "      <td>3.984317</td>\n",
       "      <td>0.201124</td>\n",
       "      <td>18.342335</td>\n",
       "      <td>13.057255</td>\n",
       "      <td>23.316527</td>\n",
       "    </tr>\n",
       "    <tr>\n",
       "      <th>84</th>\n",
       "      <td>237.496980</td>\n",
       "      <td>2CXO J112008.5+130307</td>\n",
       "      <td>170.035399</td>\n",
       "      <td>13.051914</td>\n",
       "      <td>0.774353</td>\n",
       "      <td>0.647498</td>\n",
       "      <td>139.851620</td>\n",
       "      <td>4.000000</td>\n",
       "      <td>TRUE</td>\n",
       "      <td>False</td>\n",
       "      <td>...</td>\n",
       "      <td>4.359917e-15</td>\n",
       "      <td>7.956849e-15</td>\n",
       "      <td>NaN</td>\n",
       "      <td>NaN</td>\n",
       "      <td>NaN</td>\n",
       "      <td>4.338261</td>\n",
       "      <td>0.463460</td>\n",
       "      <td>24.421586</td>\n",
       "      <td>18.316189</td>\n",
       "      <td>30.526982</td>\n",
       "    </tr>\n",
       "    <tr>\n",
       "      <th>85</th>\n",
       "      <td>240.218881</td>\n",
       "      <td>2CXO J112019.6+130320</td>\n",
       "      <td>170.081736</td>\n",
       "      <td>13.055570</td>\n",
       "      <td>0.563631</td>\n",
       "      <td>0.427724</td>\n",
       "      <td>157.623228</td>\n",
       "      <td>10.427182</td>\n",
       "      <td>TRUE</td>\n",
       "      <td>False</td>\n",
       "      <td>...</td>\n",
       "      <td>3.837669e-14</td>\n",
       "      <td>4.670929e-14</td>\n",
       "      <td>NaN</td>\n",
       "      <td>NaN</td>\n",
       "      <td>NaN</td>\n",
       "      <td>4.414767</td>\n",
       "      <td>0.763273</td>\n",
       "      <td>150.478203</td>\n",
       "      <td>136.047662</td>\n",
       "      <td>164.908744</td>\n",
       "    </tr>\n",
       "    <tr>\n",
       "      <th>86</th>\n",
       "      <td>246.797558</td>\n",
       "      <td>2CXO J112027.8+125649</td>\n",
       "      <td>170.116113</td>\n",
       "      <td>12.946999</td>\n",
       "      <td>1.754478</td>\n",
       "      <td>1.143646</td>\n",
       "      <td>33.705932</td>\n",
       "      <td>3.294118</td>\n",
       "      <td>TRUE</td>\n",
       "      <td>False</td>\n",
       "      <td>...</td>\n",
       "      <td>1.775502e-15</td>\n",
       "      <td>4.142838e-15</td>\n",
       "      <td>NaN</td>\n",
       "      <td>NaN</td>\n",
       "      <td>NaN</td>\n",
       "      <td>3.872333</td>\n",
       "      <td>-0.408495</td>\n",
       "      <td>17.434501</td>\n",
       "      <td>12.141885</td>\n",
       "      <td>22.727118</td>\n",
       "    </tr>\n",
       "    <tr>\n",
       "      <th>87</th>\n",
       "      <td>249.864798</td>\n",
       "      <td>2CXO J112025.4+130247</td>\n",
       "      <td>170.106001</td>\n",
       "      <td>13.046538</td>\n",
       "      <td>1.073411</td>\n",
       "      <td>0.672588</td>\n",
       "      <td>169.752370</td>\n",
       "      <td>4.324324</td>\n",
       "      <td>TRUE</td>\n",
       "      <td>False</td>\n",
       "      <td>...</td>\n",
       "      <td>3.313572e-15</td>\n",
       "      <td>5.917093e-15</td>\n",
       "      <td>NaN</td>\n",
       "      <td>NaN</td>\n",
       "      <td>NaN</td>\n",
       "      <td>4.518050</td>\n",
       "      <td>-0.077452</td>\n",
       "      <td>28.149005</td>\n",
       "      <td>21.463617</td>\n",
       "      <td>34.482532</td>\n",
       "    </tr>\n",
       "  </tbody>\n",
       "</table>\n",
       "<p>88 rows × 29 columns</p>\n",
       "</div>"
      ],
      "text/plain": [
       "    Separation                  CSC ID          RA        Dec  \\\n",
       "0     0.603512   2CXO J112014.9+125929  170.062428  12.991495   \n",
       "1     1.154310   2CXO J112015.0+125928  170.062878  12.991329   \n",
       "2     4.249587   2CXO J112014.9+125933  170.062259  12.992633   \n",
       "3     4.484088  2CXO J112015.2+125932X  170.063665  12.992189   \n",
       "4     5.940189   2CXO J112015.3+125932  170.064119  12.992230   \n",
       "..         ...                     ...         ...        ...   \n",
       "83  231.679093   2CXO J112030.5+130013  170.127457  13.003663   \n",
       "84  237.496980   2CXO J112008.5+130307  170.035399  13.051914   \n",
       "85  240.218881   2CXO J112019.6+130320  170.081736  13.055570   \n",
       "86  246.797558   2CXO J112027.8+125649  170.116113  12.946999   \n",
       "87  249.864798   2CXO J112025.4+130247  170.106001  13.046538   \n",
       "\n",
       "    Err Ellipse Major  Err Ellipse Minor  Err Ellipse Angle  Significance  \\\n",
       "0            0.311932           0.311917           0.000000      9.567092   \n",
       "1            0.317501           0.317501           0.000000      7.701153   \n",
       "2            0.299684           0.298357           5.587902     12.795398   \n",
       "3            3.446421           3.446421           0.000000     39.744111   \n",
       "4            0.413187           0.343140          64.093176      5.142857   \n",
       "..                ...                ...                ...           ...   \n",
       "83           1.402157           0.820192           1.489236      3.575758   \n",
       "84           0.774353           0.647498         139.851620      4.000000   \n",
       "85           0.563631           0.427724         157.623228     10.427182   \n",
       "86           1.754478           1.143646          33.705932      3.294118   \n",
       "87           1.073411           0.672588         169.752370      4.324324   \n",
       "\n",
       "   Likelihood conf_flag  ... flux_aper_avg_lolim_b  flux_aper_avg_hilim_b  \\\n",
       "0        TRUE      True  ...          2.158629e-14           2.700286e-14   \n",
       "1        TRUE      True  ...          2.096613e-14           2.689218e-14   \n",
       "2        TRUE     False  ...          2.943952e-14           3.440386e-14   \n",
       "3        TRUE       NaN  ...          2.366824e-13           2.788378e-13   \n",
       "4        TRUE     False  ...          5.671396e-15           8.390559e-15   \n",
       "..        ...       ...  ...                   ...                    ...   \n",
       "83       TRUE     False  ...          2.248525e-15           4.208778e-15   \n",
       "84       TRUE     False  ...          4.359917e-15           7.956849e-15   \n",
       "85       TRUE     False  ...          3.837669e-14           4.670929e-14   \n",
       "86       TRUE     False  ...          1.775502e-15           4.142838e-15   \n",
       "87       TRUE     False  ...          3.313572e-15           5.917093e-15   \n",
       "\n",
       "    flux_aper_avg_w  flux_aper_avg_lolim_w  flux_aper_avg_hilim_w     Theta  \\\n",
       "0               NaN                    NaN                    NaN  0.420311   \n",
       "1               NaN                    NaN                    NaN  0.412041   \n",
       "2               NaN                    NaN                    NaN  0.488407   \n",
       "3               NaN                    NaN                    NaN  0.466503   \n",
       "4               NaN                    NaN                    NaN  0.477466   \n",
       "..              ...                    ...                    ...       ...   \n",
       "83              NaN                    NaN                    NaN  3.984317   \n",
       "84              NaN                    NaN                    NaN  4.338261   \n",
       "85              NaN                    NaN                    NaN  4.414767   \n",
       "86              NaN                    NaN                    NaN  3.872333   \n",
       "87              NaN                    NaN                    NaN  4.518050   \n",
       "\n",
       "    HS Ratio       Counts  Counts lolim  Counts hilim  \n",
       "0   0.029981   173.048934    154.988228    191.109641  \n",
       "1  -0.277327   126.386565    109.441688    142.201784  \n",
       "2   0.224859   226.842541    209.119065    244.566017  \n",
       "3        NaN  3329.616280   3231.522180   3427.710381  \n",
       "4   0.199875    39.229231     31.383385     46.639197  \n",
       "..       ...          ...           ...           ...  \n",
       "83  0.201124    18.342335     13.057255     23.316527  \n",
       "84  0.463460    24.421586     18.316189     30.526982  \n",
       "85  0.763273   150.478203    136.047662    164.908744  \n",
       "86 -0.408495    17.434501     12.141885     22.727118  \n",
       "87 -0.077452    28.149005     21.463617     34.482532  \n",
       "\n",
       "[88 rows x 29 columns]"
      ]
     },
     "execution_count": 3,
     "metadata": {},
     "output_type": "execute_result"
    }
   ],
   "source": [
    "table"
   ]
  },
  {
   "cell_type": "code",
   "execution_count": null,
   "id": "1fcdd1a9-daf5-4a9f-bd8a-360ffc6f736c",
   "metadata": {},
   "outputs": [],
   "source": [
    "# Run the following code to see all the row"
   ]
  }
 ],
 "metadata": {
  "kernelspec": {
   "display_name": "Python 3 (ipykernel)",
   "language": "python",
   "name": "python3"
  },
  "language_info": {
   "codemirror_mode": {
    "name": "ipython",
    "version": 3
   },
   "file_extension": ".py",
   "mimetype": "text/x-python",
   "name": "python",
   "nbconvert_exporter": "python",
   "pygments_lexer": "ipython3",
   "version": "3.12.10"
  }
 },
 "nbformat": 4,
 "nbformat_minor": 5
}
